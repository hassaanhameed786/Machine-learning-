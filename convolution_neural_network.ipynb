{
  "nbformat": 4,
  "nbformat_minor": 0,
  "metadata": {
    "colab": {
      "name": "convolution neural network.ipynb",
      "provenance": [],
      "collapsed_sections": [],
      "authorship_tag": "ABX9TyN3eE1iCJsiGf4KGsHj2SLz",
      "include_colab_link": true
    },
    "kernelspec": {
      "name": "python3",
      "display_name": "Python 3"
    },
    "language_info": {
      "name": "python"
    },
    "accelerator": "GPU"
  },
  "cells": [
    {
      "cell_type": "markdown",
      "metadata": {
        "id": "view-in-github",
        "colab_type": "text"
      },
      "source": [
        "<a href=\"https://colab.research.google.com/github/hassaanhameed786/Machine-learning-/blob/main/convolution_neural_network.ipynb\" target=\"_parent\"><img src=\"https://colab.research.google.com/assets/colab-badge.svg\" alt=\"Open In Colab\"/></a>"
      ]
    },
    {
      "cell_type": "code",
      "source": [
        "from tensorflow import keras\n",
        "import numpy as np \n",
        "import tensorflow as tf\n",
        "import  tensorflow_datasets as  tfds"
      ],
      "metadata": {
        "id": "vhGw3Dgald87"
      },
      "execution_count": null,
      "outputs": []
    },
    {
      "cell_type": "code",
      "source": [
        "tfds.list_builders()"
      ],
      "metadata": {
        "id": "duJYOi8dld_m"
      },
      "execution_count": null,
      "outputs": []
    },
    {
      "cell_type": "code",
      "source": [
        "ds_train =  tfds.load(name=\"rock_paper_scissors\",split=\"train\")\n",
        "ds_test  =  tfds.load(name=\"rock_paper_scissors\",split=\"test\")"
      ],
      "metadata": {
        "id": "REIYNCilhr42"
      },
      "execution_count": null,
      "outputs": []
    },
    {
      "cell_type": "markdown",
      "source": [
        "## train test"
      ],
      "metadata": {
        "id": "FLyRcqF-c0Kv"
      }
    },
    {
      "cell_type": "code",
      "source": [
        "train_images = np.array([example['image'].numpy() for example in ds_train])     # iterate the dataset \n",
        "train_labels = np.array([example['label'].numpy() for example in ds_train]) \n",
        "\n",
        "\n",
        "# test data \n",
        "test_images = np.array([example ['image'].numpy() for example in ds_test])\n",
        "test_labels = np.array([example ['label'].numpy() for example in ds_test])"
      ],
      "metadata": {
        "id": "uX27z7tphr8m"
      },
      "execution_count": null,
      "outputs": []
    },
    {
      "cell_type": "code",
      "source": [
        "test_images.dtype ## all value re int so we need 0 and 1 in the image convert into the float\n",
        "train_images = train_images.astype('float32')\n",
        "test_images = test_images.astype('float32')\n",
        "\n",
        "train_images /= 255\n",
        "test_images /=255"
      ],
      "metadata": {
        "id": "jpisv9Khc9lG"
      },
      "execution_count": null,
      "outputs": []
    },
    {
      "cell_type": "code",
      "source": [
        ""
      ],
      "metadata": {
        "id": "scHWbmJlgmlZ"
      },
      "execution_count": null,
      "outputs": []
    },
    {
      "cell_type": "markdown",
      "source": [
        "# Differnt apporach convolution neural network/\n",
        "\n",
        "\n",
        "elementwise multiplication with the part of the input it is currently on the image"
      ],
      "metadata": {
        "id": "z-IkFFykc-t3"
      }
    },
    {
      "cell_type": "code",
      "source": [
        "model = keras.Sequential([\n",
        "    keras.layers.Conv2D(64, 3 ,activation='relu'),\n",
        "    keras.layers.Conv2D(32,3 ,activation='relu'),\n",
        "    keras.layers.Flatten(),            # this layers convert the multi Dimensional matrix into single vector\n",
        "    keras.layers.Dense(3, activation='Softmax', ),\n",
        "])\n",
        "\n",
        "model.compile(optimizer='adam',\n",
        "              loss= keras.losses.SparseCategoricalCrossentropy(),\n",
        "              metrics =['accuracy']\n",
        "              )\n",
        "\n",
        "model.fit(train_images, train_labels, epochs=5,batch_size=32)"
      ],
      "metadata": {
        "id": "_9NwcruOdFon"
      },
      "execution_count": null,
      "outputs": []
    },
    {
      "cell_type": "code",
      "source": [
        "model.evaluate(test_images,test_labels)"
      ],
      "metadata": {
        "colab": {
          "base_uri": "https://localhost:8080/"
        },
        "id": "3DSCALGXlv2j",
        "outputId": "a729a727-2a08-4727-8bb9-5cf215cb26cb"
      },
      "execution_count": null,
      "outputs": [
        {
          "output_type": "stream",
          "name": "stdout",
          "text": [
            "12/12 [==============================] - 3s 248ms/step - loss: 4.0007 - accuracy: 0.4812\n"
          ]
        },
        {
          "output_type": "execute_result",
          "data": {
            "text/plain": [
              "[4.000718593597412, 0.4811827838420868]"
            ]
          },
          "metadata": {},
          "execution_count": 8
        }
      ]
    },
    {
      "cell_type": "markdown",
      "source": [
        "I am trying to improve the accuracy using Conv2D \n",
        "but it would decrease now lets figure out the overfitting problem.... next what should i need to do for better accuracy "
      ],
      "metadata": {
        "id": "cxWKfrlFmmGO"
      }
    },
    {
      "cell_type": "markdown",
      "source": [
        "# Much Better Apporach using Max and Average pooling"
      ],
      "metadata": {
        "id": "Y0Q6opqjxZgy"
      }
    },
    {
      "cell_type": "code",
      "source": [
        "model = keras.Sequential([\n",
        "    keras.layers.AveragePooling2D( 6, 3 ),\n",
        "    keras.layers.Conv2D(64, 3 ,activation='relu'),\n",
        "    keras.layers.Conv2D(32,3 ,activation='relu'),\n",
        "    keras.layers.MaxPooling2D(2,2),\n",
        "    keras.layers.Dropout(0.5),\n",
        "    keras.layers.Flatten(),            # this layers convert the multi Dimensional matrix into single vector\n",
        "   \n",
        "    keras.layers.Dense(128,activation='relu',),\n",
        "    keras.layers.Dense(3, activation='Softmax', ),\n",
        "])\n",
        "\n",
        "model.compile(optimizer='adam',\n",
        "              loss= keras.losses.SparseCategoricalCrossentropy(),\n",
        "              metrics =['accuracy']\n",
        "              )\n",
        "\n",
        "model.fit(train_images, train_labels, epochs=5,batch_size=32)"
      ],
      "metadata": {
        "colab": {
          "base_uri": "https://localhost:8080/"
        },
        "id": "cCsT59cTmb_b",
        "outputId": "9cdab7cc-1268-4496-c568-ab0cad38a7f1"
      },
      "execution_count": null,
      "outputs": [
        {
          "output_type": "stream",
          "name": "stdout",
          "text": [
            "Epoch 1/5\n",
            "79/79 [==============================] - 14s 60ms/step - loss: 0.7603 - accuracy: 0.7198\n",
            "Epoch 2/5\n",
            "79/79 [==============================] - 4s 55ms/step - loss: 0.0984 - accuracy: 0.9786\n",
            "Epoch 3/5\n",
            "79/79 [==============================] - 4s 55ms/step - loss: 0.0280 - accuracy: 0.9948\n",
            "Epoch 4/5\n",
            "79/79 [==============================] - 4s 55ms/step - loss: 0.0099 - accuracy: 0.9992\n",
            "Epoch 5/5\n",
            "79/79 [==============================] - 4s 55ms/step - loss: 0.0048 - accuracy: 0.9996\n"
          ]
        },
        {
          "output_type": "execute_result",
          "data": {
            "text/plain": [
              "<keras.callbacks.History at 0x7f178d228b10>"
            ]
          },
          "metadata": {},
          "execution_count": 8
        }
      ]
    },
    {
      "cell_type": "code",
      "source": [
        "model.evaluate(test_images,test_labels)"
      ],
      "metadata": {
        "colab": {
          "base_uri": "https://localhost:8080/"
        },
        "id": "M6gcAsBzqJ4Y",
        "outputId": "78df6222-d171-483d-caa9-63f2a367ee31"
      },
      "execution_count": null,
      "outputs": [
        {
          "output_type": "stream",
          "name": "stdout",
          "text": [
            "12/12 [==============================] - 1s 53ms/step - loss: 0.9715 - accuracy: 0.8038\n"
          ]
        },
        {
          "output_type": "execute_result",
          "data": {
            "text/plain": [
              "[0.9715465307235718, 0.8037634491920471]"
            ]
          },
          "metadata": {},
          "execution_count": 9
        }
      ]
    },
    {
      "cell_type": "code",
      "source": [
        ""
      ],
      "metadata": {
        "id": "TFUCYHRIvRgp"
      },
      "execution_count": null,
      "outputs": []
    }
  ]
}